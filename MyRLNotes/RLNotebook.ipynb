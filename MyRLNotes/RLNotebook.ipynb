{
 "cells": [
  {
   "cell_type": "code",
   "execution_count": null,
   "metadata": {},
   "outputs": [],
   "source": [
    "# Notebook for RL Work\n",
    "# Written By Bryan\n",
    "\n",
    "# ==== Bandit Imports ====\n",
    "from Bandits import *    # Custom bandit classes\n",
    "\n",
    "import matplotlib.pyplot as plt\n",
    "import numpy as np\n",
    "from sklearn.metrics import log_loss\n",
    "from scipy.optimize import minimize\n",
    "\n",
    "\n",
    "\n",
    "# ==== Mermaid display imports ====\n",
    "import base64\n",
    "from IPython.display import Image, display\n",
    "import matplotlib.pyplot as plt\n",
    "\n",
    "def mm(graph):\n",
    "    graphbytes = graph.encode(\"utf8\")\n",
    "    base64_bytes = base64.b64encode(graphbytes)\n",
    "    base64_string = base64_bytes.decode(\"ascii\")\n",
    "    display(Image(url=\"https://mermaid.ink/img/\" + base64_string))"
   ]
  },
  {
   "cell_type": "markdown",
   "metadata": {},
   "source": [
    "## eGreedy "
   ]
  },
  {
   "cell_type": "markdown",
   "metadata": {},
   "source": [
    "#### Trial Configurations"
   ]
  },
  {
   "cell_type": "code",
   "execution_count": null,
   "metadata": {},
   "outputs": [],
   "source": [
    "# Create and Show env\n",
    "env = Testbed(num_sim=1000)\n",
    "\n",
    "#Trial Params\n",
    "k = env.k\n",
    "steps = 300\n",
    "trial_params = [k, steps]\n",
    "reward_values = env.q_star\n",
    "\n",
    "env.show_mean()\n",
    "env.show_testbed()"
   ]
  },
  {
   "cell_type": "code",
   "execution_count": null,
   "metadata": {},
   "outputs": [],
   "source": [
    "#Model Params\n",
    "model_type = \"EG\"\n",
    "alpha = 0\n",
    "epsilon = 0\n",
    "model_params = [alpha, epsilon]\n",
    "start_val = 0\n",
    "\n",
    "\n",
    "# Create eGreedy task\n",
    "eg_0 = create_bandit_task(model_type, model_params, trial_params, reward_values, start_val)\n",
    "eg_01 = create_bandit_task(model_type=\"EG\", model_params=[0,0.1], trial_params=trial_params, reward_values=reward_values, start_val=start_val)\n",
    "\n",
    "tasks = [eg_0, eg_01]\n",
    "for task in tasks:\n",
    "    task.simulate()\n",
    "    task.show_results()\n",
    "    task.show_actions()\n"
   ]
  },
  {
   "cell_type": "markdown",
   "metadata": {},
   "source": [
    "## Softmax"
   ]
  },
  {
   "cell_type": "code",
   "execution_count": null,
   "metadata": {},
   "outputs": [],
   "source": [
    "#Model Params\n",
    "model_type = \"SM\"\n",
    "alpha = 1\n",
    "temp = 1\n",
    "model_params = [alpha, temp]\n",
    "start_val = 1\n",
    "\n",
    "\n",
    "\n",
    "SM = create_bandit_task(model_type, model_params, trial_params, reward_values, start_val)\n",
    "SM.simulate()\n",
    "SM.show_results()\n",
    "SM.show_actions()"
   ]
  },
  {
   "cell_type": "markdown",
   "metadata": {},
   "source": [
    "## Softmax_UCB"
   ]
  },
  {
   "cell_type": "code",
   "execution_count": null,
   "metadata": {},
   "outputs": [],
   "source": [
    "# Model Params\n",
    "model_type = \"SMUCB\"\n",
    "alpha = 1\n",
    "temp = 1\n",
    "uncertParam = 2\n",
    "#uncert = 2\n",
    "model_params = [alpha, temp, uncertParam]\n",
    "start_val = 1\n",
    "\n",
    "SMUCB = create_bandit_task(model_type=model_type, model_params=model_params, trial_params=trial_params, reward_values=reward_values, start_val=start_val)\n",
    "\n",
    "SMUCB.simulate()\n",
    "SMUCB.show_results()"
   ]
  },
  {
   "cell_type": "markdown",
   "metadata": {},
   "source": [
    "## Model Validation\n",
    "\n",
    "#### Param Recovery\n",
    "Fit data to model it was simulated with\n",
    "<ol>\n",
    "<li>Simulate choices and rewards using chosen parameter values(acts as ground truth)</li>\n",
    "<li>\n",
    "Run fitting procedure (neg log likelihood function) on simulated choice AND reward data.\n",
    "See if we an estimate simulated parameter values (estimates are fitted parameter values)\n",
    "</li>\n",
    "</ol>"
   ]
  },
  {
   "cell_type": "code",
   "execution_count": null,
   "metadata": {},
   "outputs": [],
   "source": [
    "# Run this to display mermaid flowchart of parameter recovery\n",
    "mm(\"\"\"\n",
    "flowchart LR\n",
    "   subgraph input-parameters\n",
    "   direction TB\n",
    "   id1([epsilon])\n",
    "   id2([alpha])\n",
    "   id3([etc...])\n",
    "   id1 ~~~ id2 ~~~ id3\n",
    "   end\n",
    "\n",
    "   subgraph output-parameters\n",
    "   direction TB\n",
    "   id4([epsilon])\n",
    "   id5([alpha])\n",
    "   id6([etc...])\n",
    "   id4 ~~~ id5 ~~~ id6\n",
    "   end\n",
    "\n",
    "   simData[(Simulated Data)]\n",
    "   model((RL Model))\n",
    "   n([noise])\n",
    "   fm{{fit data to model}}\n",
    "\n",
    "   input-parameters --\"(1) input\"--> model\n",
    "   model --\"(1) creates\"--> simData\n",
    "   simData -.\"(2) (optional) Add\".-> n\n",
    "   simData --> fm\n",
    "   n -.-> fm\n",
    "   fm ~~~ output-parameters\n",
    "   fm --\"(3) Outputs\"--> output-parameters\n",
    "   input-parameters o-- \"(4) compare\"  --o output-parameters\n",
    "\n",
    "\"\"\")"
   ]
  },
  {
   "cell_type": "code",
   "execution_count": null,
   "metadata": {},
   "outputs": [],
   "source": [
    "num_models = 2      # number of models\n",
    "num_sims = 30       # number of agents to fit\n",
    "num_trials = 0      #\n",
    "\n",
    "reward_modelPR = np.zeros(shape=[num_models, num_sims, num_trials])\n",
    "choices_modelPR = np.zeros(shape=[num_models, num_sims, num_trials])\n",
    "\n",
    "# Create Parameters\n",
    "paraSimPR = paramCreate(num_sims)\n",
    "\n",
    "# \n",
    "paraFitPR = np.zeros(shape=[num_sims, num_Param])\n",
    "LLArray = np.zeros(shape=[num_sims, num_models])\n",
    "\n",
    "# number of fitting attempts\n",
    "num_fit_attempts = 5\n",
    "\n",
    "for agent in tqdm(range(num_sims)):\n",
    "    \n",
    "    # generate environment (non stationary bandit environment from Daw et al in TF Doc)\n",
    "    environment = Testbed() \n",
    "\n",
    "    # eGreedy\n",
    "    EG = SimpleBandit(arms=10, epsilon=paraSimPR[agent, 0:2], steps=1000, q_star=environment.q_star, initial_Q=0.1)\n",
    "    EG.simulate()\n",
    "\n",
    "    # Softmax\n",
    "    SM = SimpleBandit(arms=10, epsilon=paraSimPR[agent, 2:4], steps=1000, q_star=environment.q_star, initial_Q=0, argmax_func=softmax)\n",
    "    SM.simulate()\n",
    "    # Softmax UCB (Softmax Distrubutrion with upper confidence bound action selection)\n",
    "    #SMUCB_Choice = SimpleBandit(arms=10, epsilon=paraSimPR[param_count, 4:7], steps=1000, q_star=reward_values.q_star, initial_Q=0, argmax_func=UCB)\n",
    "\n"
   ]
  },
  {
   "cell_type": "markdown",
   "metadata": {},
   "source": [
    "#### Model Recovery\n",
    "\n",
    "Fit data to all models\n",
    "<ol>\n",
    "<li>\n",
    "Use simulated choice and reward data from paramater recovery step\n",
    "</li>\n",
    "\n",
    "<li>\n",
    "Calculate negative log likelihood values using each model on the simulated data\n",
    "</li>\n",
    "</ol>\n"
   ]
  }
 ],
 "metadata": {
  "kernelspec": {
   "display_name": "Python 3",
   "language": "python",
   "name": "python3"
  },
  "language_info": {
   "codemirror_mode": {
    "name": "ipython",
    "version": 3
   },
   "file_extension": ".py",
   "mimetype": "text/x-python",
   "name": "python",
   "nbconvert_exporter": "python",
   "pygments_lexer": "ipython3",
   "version": "3.11.9"
  }
 },
 "nbformat": 4,
 "nbformat_minor": 2
}
