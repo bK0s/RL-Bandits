{
 "cells": [
  {
   "cell_type": "markdown",
   "metadata": {},
   "source": [
    "# RL Bandit Notebook"
   ]
  },
  {
   "cell_type": "code",
   "execution_count": null,
   "metadata": {},
   "outputs": [],
   "source": [
    "# Notebook for RL Work\n",
    "# Written By Bryan\n",
    "\n",
    "# ==== Bandit Imports ====\n",
    "from Bandits import *    # Custom bandit classes\n",
    "\n",
    "import matplotlib.pyplot as plt\n",
    "import numpy as np\n",
    "from sklearn.metrics import log_loss\n",
    "from scipy.optimize import minimize\n",
    "\n",
    "\n",
    "\n",
    "# ==== Mermaid display imports ====\n",
    "import base64\n",
    "from IPython.display import Image, display\n",
    "import matplotlib.pyplot as plt\n",
    "\n",
    "def mm(graph):\n",
    "    graphbytes = graph.encode(\"utf8\")\n",
    "    base64_bytes = base64.b64encode(graphbytes)\n",
    "    base64_string = base64_bytes.decode(\"ascii\")\n",
    "    display(Image(url=\"https://mermaid.ink/img/\" + base64_string))"
   ]
  },
  {
   "cell_type": "markdown",
   "metadata": {},
   "source": [
    "## Environment Setup "
   ]
  },
  {
   "cell_type": "markdown",
   "metadata": {},
   "source": [
    "#### Trial Configurations"
   ]
  },
  {
   "cell_type": "code",
   "execution_count": null,
   "metadata": {},
   "outputs": [],
   "source": [
    "# Create and Show env\n",
    "env = Testbed(num_problems=1000, stationary=False)\n",
    "env.show_mean()\n"
   ]
  },
  {
   "cell_type": "code",
   "execution_count": null,
   "metadata": {},
   "outputs": [],
   "source": [
    "#Model Params\n",
    "start_val = 1\n",
    "\n",
    "\n",
    "# Create eGreedy task\n",
    "# eg_01 = create_bandit_task(model_type=\"EG\", model_params=[0,0.1], steps=trial_params, reward_values=reward_values, start_val=start_val)\n",
    "eg_01 = create_bandit_task(model_type=\"EG\", env=env, model_params=[0,0.1], steps=500, start_val=start_val )\n",
    "\n",
    "tasks = [ eg_01]\n",
    "for task in tasks:\n",
    "    task.simulate()\n",
    "    task.show_results()\n",
    "    task.show_actions()\n",
    "\n",
    "env.show_mean()\n"
   ]
  },
  {
   "cell_type": "markdown",
   "metadata": {},
   "source": [
    "## Softmax"
   ]
  },
  {
   "cell_type": "code",
   "execution_count": null,
   "metadata": {},
   "outputs": [],
   "source": [
    "#Model Params\n",
    "model_type = \"SM\"\n",
    "alpha = 0.6\n",
    "temp = 10                       # inverse temp\n",
    "model_params = [alpha, temp]\n",
    "# start_val = 1\n",
    "\n",
    "\n",
    "\n",
    "SM = create_bandit_task(model_type, env.new(), model_params, steps=500, start_val=start_val)\n",
    "SM.simulate()\n",
    "SM.show_actions()\n",
    "SM.show_results()"
   ]
  },
  {
   "cell_type": "markdown",
   "metadata": {},
   "source": [
    "## Softmax_UCB"
   ]
  },
  {
   "cell_type": "code",
   "execution_count": null,
   "metadata": {},
   "outputs": [],
   "source": [
    "# Model Params\n",
    "model_type = \"SMUCB\"\n",
    "alpha = 0.1\n",
    "temp = 5\n",
    "uncertParam = .2\n",
    "#uncert = 2\n",
    "model_params = [alpha, temp, uncertParam]\n",
    "# start_val = 1\n",
    "\n",
    "SMUCB = create_bandit_task(model_type=model_type, env=env.new(), model_params=model_params, steps=500, start_val=start_val)\n",
    "\n",
    "SMUCB.simulate()"
   ]
  },
  {
   "cell_type": "markdown",
   "metadata": {},
   "source": [
    "### Simulate Performance"
   ]
  },
  {
   "cell_type": "code",
   "execution_count": null,
   "metadata": {},
   "outputs": [],
   "source": [
    "model_performance_summary(bandits=[eg_01, SM, SMUCB])\n",
    "# print(f\"Param Name:{key}\\n {value}\" for key, value in vars(eg_01))\n",
    "# env.show_mean()"
   ]
  },
  {
   "cell_type": "markdown",
   "metadata": {},
   "source": [
    "## Log-Likelihood"
   ]
  },
  {
   "cell_type": "code",
   "execution_count": null,
   "metadata": {},
   "outputs": [],
   "source": [
    "eg_01.simulate_LL()\n",
    "SM.simulate_LL()\n",
    "SMUCB.simulate_LL()\n",
    "# print(SMUCB.selection_matrix)\n",
    "\n",
    "# print(eg_01.total_LL_array)\n",
    "# print(SM.total_LL_array)\n",
    "# print(SMUCB.total_LL_array)\n"
   ]
  },
  {
   "cell_type": "markdown",
   "metadata": {},
   "source": [
    "## Model Validation\n",
    "\n",
    "#### Param Recovery\n",
    "Fit data to model it was simulated with\n",
    "<ol>\n",
    "<li>Simulate choices and rewards using chosen parameter values(acts as ground truth)</li>\n",
    "<li>\n",
    "Run fitting procedure (neg log likelihood function) on simulated choice AND reward data.\n",
    "See if we an estimate simulated parameter values (estimates are fitted parameter values)\n",
    "</li>\n",
    "</ol>"
   ]
  },
  {
   "cell_type": "code",
   "execution_count": null,
   "metadata": {},
   "outputs": [],
   "source": [
    "# Run this to display mermaid flowchart of parameter recovery\n",
    "mm(\"\"\"\n",
    "flowchart LR\n",
    "   subgraph input-parameters\n",
    "   direction TB\n",
    "   id1([epsilon])\n",
    "   id2([alpha])\n",
    "   id3([etc...])\n",
    "   id1 ~~~ id2 ~~~ id3\n",
    "   end\n",
    "\n",
    "   subgraph output-parameters\n",
    "   direction TB\n",
    "   id4([epsilon])\n",
    "   id5([alpha])\n",
    "   id6([etc...])\n",
    "   id4 ~~~ id5 ~~~ id6\n",
    "   end\n",
    "\n",
    "   simData[(Simulated Data)]\n",
    "   model((RL Model))\n",
    "   n([noise])\n",
    "   fm{{fit data to model}}\n",
    "\n",
    "   input-parameters --\"(1) input\"--> model\n",
    "   model --\"(1) creates\"--> simData\n",
    "   simData -.\"(2) (optional) Add\".-> n\n",
    "   simData --> fm\n",
    "   n -.-> fm\n",
    "   fm ~~~ output-parameters\n",
    "   fm --\"(3) Outputs\"--> output-parameters\n",
    "   input-parameters o-- \"(4) compare\"  --o output-parameters\n",
    "\n",
    "\"\"\")"
   ]
  },
  {
   "cell_type": "markdown",
   "metadata": {},
   "source": [
    "#### Model Recovery\n",
    "\n",
    "Fit data to all models\n",
    "<ol>\n",
    "<li>\n",
    "Use simulated choice and reward data from paramater recovery step\n",
    "</li>\n",
    "\n",
    "<li>\n",
    "Calculate negative log likelihood values using each model on the simulated data\n",
    "</li>\n",
    "</ol>\n"
   ]
  }
 ],
 "metadata": {
  "kernelspec": {
   "display_name": "Python 3",
   "language": "python",
   "name": "python3"
  },
  "language_info": {
   "codemirror_mode": {
    "name": "ipython",
    "version": 3
   },
   "file_extension": ".py",
   "mimetype": "text/x-python",
   "name": "python",
   "nbconvert_exporter": "python",
   "pygments_lexer": "ipython3",
   "version": "3.11.9"
  }
 },
 "nbformat": 4,
 "nbformat_minor": 2
}
